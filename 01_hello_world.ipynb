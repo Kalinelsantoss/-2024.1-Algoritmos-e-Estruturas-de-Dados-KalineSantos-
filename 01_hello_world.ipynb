{
  "nbformat": 4,
  "nbformat_minor": 0,
  "metadata": {
    "colab": {
      "provenance": [],
      "authorship_tag": "ABX9TyNsTJBdPb/oWzK1uTTK1bA9",
      "include_colab_link": true
    },
    "kernelspec": {
      "name": "python3",
      "display_name": "Python 3"
    },
    "language_info": {
      "name": "python"
    }
  },
  "cells": [
    {
      "cell_type": "markdown",
      "metadata": {
        "id": "view-in-github",
        "colab_type": "text"
      },
      "source": [
        "<a href=\"https://colab.research.google.com/github/Kalinelsantoss/projeto.2024/blob/main/01_hello_world.ipynb\" target=\"_parent\"><img src=\"https://colab.research.google.com/assets/colab-badge.svg\" alt=\"Open In Colab\"/></a>"
      ]
    },
    {
      "cell_type": "markdown",
      "source": [
        "Meu primeiro programa\n"
      ],
      "metadata": {
        "id": "XREHX8jfeGJS"
      }
    },
    {
      "cell_type": "code",
      "execution_count": null,
      "metadata": {
        "colab": {
          "base_uri": "https://localhost:8080/"
        },
        "id": "m9HLZ4a_dkGz",
        "outputId": "3788d209-aeb6-4f24-dea2-e3a30f70eef2"
      },
      "outputs": [
        {
          "output_type": "stream",
          "name": "stdout",
          "text": [
            "hello world\n"
          ]
        }
      ],
      "source": [
        "#imprime\"Hello World\" na tela\n",
        "print(\"hello world\")"
      ]
    },
    {
      "cell_type": "markdown",
      "source": [],
      "metadata": {
        "id": "jtdstUamd61p"
      }
    },
    {
      "cell_type": "code",
      "source": [
        "#variaveis em python\n",
        "#atribui a string \"Hello World\" a variavel message\n",
        "message= \"Hello World\"\n",
        "#imprime o conteúdo da variável message\n",
        "print (message)"
      ],
      "metadata": {
        "colab": {
          "base_uri": "https://localhost:8080/"
        },
        "id": "Ryv0FOQeoxWx",
        "outputId": "cb44bfaf-5a15-4c4f-b2bd-ba7325d8914a"
      },
      "execution_count": 4,
      "outputs": [
        {
          "output_type": "stream",
          "name": "stdout",
          "text": [
            "Hello World\n"
          ]
        }
      ]
    },
    {
      "cell_type": "code",
      "source": [
        "#Entrada de dados do usuário\n",
        "#solicitar ao usuário que insira seu nome\n",
        "nome = input(\"qual o seu nome\")\n",
        "print(\"Olá, \" + nome +\"!\")"
      ],
      "metadata": {
        "colab": {
          "base_uri": "https://localhost:8080/"
        },
        "id": "HD6Uyls-tP5q",
        "outputId": "f4f51ba5-4a9c-4e6e-f577-2855ed1d3a80"
      },
      "execution_count": 9,
      "outputs": [
        {
          "output_type": "stream",
          "name": "stdout",
          "text": [
            "qual o seu nomeKaline\n",
            "Olá, Kaline!\n"
          ]
        }
      ]
    }
  ]
}