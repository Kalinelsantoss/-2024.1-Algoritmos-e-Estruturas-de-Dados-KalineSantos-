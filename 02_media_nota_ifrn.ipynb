{
  "cells": [
    {
      "cell_type": "markdown",
      "metadata": {
        "id": "view-in-github",
        "colab_type": "text"
      },
      "source": [
        "<a href=\"https://colab.research.google.com/github/Kalinelsantoss/projeto.2024/blob/main/02_media_nota_ifrn.ipynb\" target=\"_parent\"><img src=\"https://colab.research.google.com/assets/colab-badge.svg\" alt=\"Open In Colab\"/></a>"
      ]
    },
    {
      "cell_type": "code",
      "execution_count": null,
      "metadata": {
        "colab": {
          "base_uri": "https://localhost:8080/"
        },
        "id": "Ek4Rz2Tpx7b8",
        "outputId": "db37b804-4ec5-43b6-ccf3-9e9452ff9323"
      },
      "outputs": [
        {
          "output_type": "stream",
          "name": "stdout",
          "text": [
            "calculadora de média ponderada do IFRN\n",
            "digite a nota 1 (com peso 2):4.8\n",
            "digite a nota 2 (com peso 3):5.6\n",
            "A média ponderada das notas é: 5.28\n",
            "A média ponderada das notas é: 5.280\n",
            "A média ponderada das notas é:  5.279999999999999\n"
          ]
        }
      ],
      "source": [
        "print(\"calculadora de média ponderada do IFRN\")\n",
        "#Float, tipagem explícita, para garantir número fracionário\n",
        "n1 = float( input(\"digite a nota 1 (com peso 2):\"))\n",
        "n2 = float( input(\"digite a nota 2 (com peso 3):\"))\n",
        "\n",
        "#calculo da media ponderada\n",
        "media = (n1 * 2 + n2 *3) / 5\n",
        "\n",
        "#impressão da média\n",
        "print(f\"A média ponderada das notas é: {media:.2f}\")\n",
        "\n",
        "#impressão da média\n",
        "print (f\"A média ponderada das notas é: {media:.3f}\")\n",
        "\n",
        "#impressão da média sem formatação\n",
        "print (\"A média ponderada das notas é: \", media)"
      ]
    }
  ],
  "metadata": {
    "colab": {
      "provenance": [],
      "authorship_tag": "ABX9TyMGQjyO1PRB3Qm3s7Zu2Wlc",
      "include_colab_link": true
    },
    "kernelspec": {
      "display_name": "Python 3",
      "name": "python3"
    },
    "language_info": {
      "name": "python"
    }
  },
  "nbformat": 4,
  "nbformat_minor": 0
}