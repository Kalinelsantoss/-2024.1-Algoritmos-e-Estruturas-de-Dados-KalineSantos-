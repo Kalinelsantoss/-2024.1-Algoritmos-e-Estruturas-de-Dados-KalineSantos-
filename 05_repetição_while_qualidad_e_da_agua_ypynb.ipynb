{
  "nbformat": 4,
  "nbformat_minor": 0,
  "metadata": {
    "colab": {
      "provenance": [],
      "authorship_tag": "ABX9TyNONhnEyOWi+4fZhLZoPD33",
      "include_colab_link": true
    },
    "kernelspec": {
      "name": "python3",
      "display_name": "Python 3"
    },
    "language_info": {
      "name": "python"
    }
  },
  "cells": [
    {
      "cell_type": "markdown",
      "metadata": {
        "id": "view-in-github",
        "colab_type": "text"
      },
      "source": [
        "<a href=\"https://colab.research.google.com/github/Kalinelsantoss/-2024.1-Algoritmos-e-Estruturas-de-Dados-KalineSantos-/blob/main/05_repeti%C3%A7%C3%A3o_while_qualidad_e_da_agua_ypynb.ipynb\" target=\"_parent\"><img src=\"https://colab.research.google.com/assets/colab-badge.svg\" alt=\"Open In Colab\"/></a>"
      ]
    },
    {
      "cell_type": "markdown",
      "source": [
        "PROGRAMA DE CONTROLE DE ÁGUA"
      ],
      "metadata": {
        "id": "tAHpEWs-1nKO"
      }
    },
    {
      "cell_type": "code",
      "execution_count": 2,
      "metadata": {
        "colab": {
          "base_uri": "https://localhost:8080/"
        },
        "id": "Iz3w2PBu1lVt",
        "outputId": "9a875249-52f8-4686-bfb8-9b26a5eb86c3"
      },
      "outputs": [
        {
          "output_type": "stream",
          "name": "stdout",
          "text": [
            "insira o nível de clore da água para verificar se setá dentro do padrão\n",
            "Digite o nível de cloro em mg/L: 1\n",
            "O nível do cloro está dentro dos padrões aceitáveis.\n"
          ]
        }
      ],
      "source": [
        "#Programa de controlde de qualidade da água\n",
        "print(\"insira o nível de clore da água para verificar se setá dentro do padrão\")\n",
        "\n",
        "while True: #loop infinito // infinete loop\n",
        "  nivel_cloro = float(input(\"Digite o nível de cloro em mg/L: \"))\n",
        "  #verificando se o  0.2 > nivel_cloro < 2\n",
        "  if nivel_cloro < 0.2:\n",
        "    print(\"Atenção: O nível de cloro está abaixo do padrão aceitável\")\n",
        "  elif nivel_cloro > 2.0:\n",
        "    print(\"Atenção: o nível de cloro está acima do padrão aceitável.\")\n",
        "  else:\n",
        "    print(\"O nível do cloro está dentro dos padrões aceitáveis.\")\n",
        "    break\n",
        "\n"
      ]
    },
    {
      "cell_type": "code",
      "source": [
        "#Programa de controlde de qualidade da água\n",
        "print(\"insira o nível de clore da água para verificar se setá dentro do padrão\")\n",
        "paradinha = True\n",
        "#paradinha = 1 outro exemplo\n",
        "while True: #loop infinito // infinete loop\n",
        "  nível_cloro = float(input(\"Digite o nível de cloro em mg/L:\"))\n",
        "  #verificando se o  0.2 > nivel_cloro < 2\n",
        "  if nivel_cloro < 0.2:\n",
        "    print(\"Atenção: O nível de cloro está abaixo do padrão aceitável\")\n",
        "  elif nivel_cloro > 2.0:\n",
        "    print(\"Atenção: o nível de cloro está acima do padrão aceitável.\")\n",
        "  else:\n",
        "    print(\"O nível do cloro está dentro dos padrões aceitáveis.\")\n",
        "paradinha = False"
      ],
      "metadata": {
        "colab": {
          "base_uri": "https://localhost:8080/"
        },
        "id": "dCfWdMBh5Tk5",
        "outputId": "1e18cb24-c9fc-40bd-a2af-da1b184739d5"
      },
      "execution_count": null,
      "outputs": [
        {
          "output_type": "stream",
          "name": "stdout",
          "text": [
            "insira o nível de clore da água para verificar se setá dentro do padrão\n",
            "Digite o nível de cloro em mg/L:.1\n",
            "O nível do cloro está dentro dos padrões aceitáveis.\n",
            "Digite o nível de cloro em mg/L:2.2\n",
            "O nível do cloro está dentro dos padrões aceitáveis.\n",
            "Digite o nível de cloro em mg/L:5.\n",
            "O nível do cloro está dentro dos padrões aceitáveis.\n"
          ]
        }
      ]
    }
  ]
}