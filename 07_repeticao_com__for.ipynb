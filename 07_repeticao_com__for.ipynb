{
  "nbformat": 4,
  "nbformat_minor": 0,
  "metadata": {
    "colab": {
      "provenance": [],
      "authorship_tag": "ABX9TyMS6SwVBZujPTd4YMOHBMzb",
      "include_colab_link": true
    },
    "kernelspec": {
      "name": "python3",
      "display_name": "Python 3"
    },
    "language_info": {
      "name": "python"
    }
  },
  "cells": [
    {
      "cell_type": "markdown",
      "metadata": {
        "id": "view-in-github",
        "colab_type": "text"
      },
      "source": [
        "<a href=\"https://colab.research.google.com/github/Kalinelsantoss/-2024.1-Algoritmos-e-Estruturas-de-Dados-KalineSantos-/blob/main/07_repeticao_com__for.ipynb\" target=\"_parent\"><img src=\"https://colab.research.google.com/assets/colab-badge.svg\" alt=\"Open In Colab\"/></a>"
      ]
    },
    {
      "cell_type": "code",
      "source": [],
      "metadata": {
        "id": "2X-FUTO4iYcV"
      },
      "execution_count": null,
      "outputs": []
    },
    {
      "cell_type": "markdown",
      "source": [
        "contador e numerar item. o f permite formatação inicial"
      ],
      "metadata": {
        "id": "qzAMtH9RiX6O"
      }
    },
    {
      "cell_type": "code",
      "execution_count": 2,
      "metadata": {
        "colab": {
          "base_uri": "https://localhost:8080/"
        },
        "id": "12yZqUS-g11X",
        "outputId": "3bff96e7-8f4f-4b72-f0a3-a22d10638ceb"
      },
      "outputs": [
        {
          "output_type": "stream",
          "name": "stdout",
          "text": [
            "1: spam.\n",
            "2: eggs\n",
            "3: bacon\n"
          ]
        }
      ],
      "source": [
        "contador=0\n",
        "for x in ['spam.','eggs','bacon']:\n",
        "  contador += 1\n",
        "  print(f\"{contador}:{x}\")"
      ]
    },
    {
      "cell_type": "code",
      "source": [
        "contador=0\n",
        "for x in ['spam.','eggs','bacon']:\n",
        "  print(f\"{contador}:{x}\")\n",
        "  contador +=1"
      ],
      "metadata": {
        "colab": {
          "base_uri": "https://localhost:8080/"
        },
        "id": "Rr1Htkeri0Zd",
        "outputId": "7b83c207-c9e7-4ca5-fdc6-be16b5741d55"
      },
      "execution_count": 3,
      "outputs": [
        {
          "output_type": "stream",
          "name": "stdout",
          "text": [
            "0:spam.\n",
            "1:eggs\n",
            "2:bacon\n"
          ]
        }
      ]
    },
    {
      "cell_type": "markdown",
      "source": [
        "variavel t que imprima numeros imprima 1 e 2. para ca us in"
      ],
      "metadata": {
        "id": "KOJR2ZgQj2Hk"
      }
    },
    {
      "cell_type": "code",
      "source": [
        "T=[(1,2),(3,4),(5,6)]\n",
        "for (a,b) in T:\n",
        "  print(a,\"e\",b)\n"
      ],
      "metadata": {
        "colab": {
          "base_uri": "https://localhost:8080/"
        },
        "id": "NYLKeQLKj1pk",
        "outputId": "34daf706-1b28-4981-8d7b-6c6a705685bf"
      },
      "execution_count": 4,
      "outputs": [
        {
          "output_type": "stream",
          "name": "stdout",
          "text": [
            "1 e 2\n",
            "3 e 4\n",
            "5 e 6\n"
          ]
        }
      ]
    },
    {
      "cell_type": "markdown",
      "source": [
        "a estrutura de dicionario"
      ],
      "metadata": {
        "id": "1o3JiWwxmDiE"
      }
    },
    {
      "cell_type": "code",
      "source": [
        "#dicionario em python\n",
        "D= {'a':1, 'b':2, 'c':3}\n",
        "for chave in D:\n",
        "  print(chave,\"=>\",D[chave])"
      ],
      "metadata": {
        "colab": {
          "base_uri": "https://localhost:8080/"
        },
        "id": "XbmzCb-skp21",
        "outputId": "845a3f38-5c7a-44d3-982d-fccf5f476ac2"
      },
      "execution_count": 5,
      "outputs": [
        {
          "output_type": "stream",
          "name": "stdout",
          "text": [
            "a => 1\n",
            "b => 2\n",
            "c => 3\n"
          ]
        }
      ]
    },
    {
      "cell_type": "markdown",
      "source": [
        "uso da estrutura de range começa contando do zero."
      ],
      "metadata": {
        "id": "WgBfEI97mNI8"
      }
    },
    {
      "cell_type": "code",
      "source": [
        "list(range (10))"
      ],
      "metadata": {
        "colab": {
          "base_uri": "https://localhost:8080/"
        },
        "id": "AEFXAlLJmmf8",
        "outputId": "9598665f-55ec-4665-f6a7-0385f78b86e9"
      },
      "execution_count": 8,
      "outputs": [
        {
          "output_type": "execute_result",
          "data": {
            "text/plain": [
              "[0, 1, 2, 3, 4, 5, 6, 7, 8, 9]"
            ]
          },
          "metadata": {},
          "execution_count": 8
        }
      ]
    },
    {
      "cell_type": "code",
      "source": [
        "for i in range(5):\n",
        "  print(i,\"pythons\")"
      ],
      "metadata": {
        "colab": {
          "base_uri": "https://localhost:8080/"
        },
        "id": "3JJt3UHBnbqO",
        "outputId": "7b8cd4da-1419-4dfa-f48f-6f7b01843b55"
      },
      "execution_count": 12,
      "outputs": [
        {
          "output_type": "stream",
          "name": "stdout",
          "text": [
            "0 pythons\n",
            "1 pythons\n",
            "2 pythons\n",
            "3 pythons\n",
            "4 pythons\n"
          ]
        }
      ]
    },
    {
      "cell_type": "markdown",
      "source": [
        "o end significa que vai permanecer em linha\n",
        "sep serve para separar"
      ],
      "metadata": {
        "id": "rf8pVOdVqONL"
      }
    },
    {
      "cell_type": "code",
      "source": [
        "s='kaline'\n",
        "print(\"tamanho da palavra:\", len(s))\n",
        "for i in range (len(s)):\n",
        "  print(i,s[i],sep='-', end=' ')"
      ],
      "metadata": {
        "colab": {
          "base_uri": "https://localhost:8080/"
        },
        "id": "j5AhEKkgoDyc",
        "outputId": "f85d8207-d243-4415-ff36-6d907377bf23"
      },
      "execution_count": 17,
      "outputs": [
        {
          "output_type": "stream",
          "name": "stdout",
          "text": [
            "tamanho da palavra: 6\n",
            "0-k 1-a 2-l 3-i 4-n 5-e "
          ]
        }
      ]
    },
    {
      "cell_type": "markdown",
      "source": [
        "USO DO ZIP"
      ],
      "metadata": {
        "id": "JCDwUMWHq8v7"
      }
    },
    {
      "cell_type": "code",
      "source": [
        "L1=['a','b','c','d']\n",
        "L2=[1,2,3,4]\n",
        "print(list(L1))\n",
        "print(list(L2))\n",
        "compactado=zip(L1,L2)\n",
        "print(list(compactado))\n",
        "print (type(compactado))\n",
        "print(type(list(zip(L1,L2))))\n",
        "for (x,y) in list(zip(L1,L2)):\n",
        "  print(x,\"-\", y)"
      ],
      "metadata": {
        "colab": {
          "base_uri": "https://localhost:8080/"
        },
        "id": "_vBIGAJ7q_57",
        "outputId": "fdd972a9-5b6d-47b5-e5d2-95bd3ad4188d"
      },
      "execution_count": 22,
      "outputs": [
        {
          "output_type": "stream",
          "name": "stdout",
          "text": [
            "['a', 'b', 'c', 'd']\n",
            "[1, 2, 3, 4]\n",
            "[('a', 1), ('b', 2), ('c', 3), ('d', 4)]\n",
            "<class 'zip'>\n",
            "<class 'list'>\n",
            "a - 1\n",
            "b - 2\n",
            "c - 3\n",
            "d - 4\n"
          ]
        }
      ]
    },
    {
      "cell_type": "code",
      "source": [
        "#zip crie um dicionáro a partir das listas\n",
        "chaves = ['a','b','c','d']\n",
        "valores = [1,2,3,4]\n",
        "D1=dict(zip(chaves,valores))\n",
        "print(D1)"
      ],
      "metadata": {
        "colab": {
          "base_uri": "https://localhost:8080/"
        },
        "id": "tygK27vmt74z",
        "outputId": "9091d84a-aa36-45a1-fd14-e0a557a93977"
      },
      "execution_count": 23,
      "outputs": [
        {
          "output_type": "stream",
          "name": "stdout",
          "text": [
            "{'a': 1, 'b': 2, 'c': 3, 'd': 4}\n"
          ]
        }
      ]
    }
  ]
}