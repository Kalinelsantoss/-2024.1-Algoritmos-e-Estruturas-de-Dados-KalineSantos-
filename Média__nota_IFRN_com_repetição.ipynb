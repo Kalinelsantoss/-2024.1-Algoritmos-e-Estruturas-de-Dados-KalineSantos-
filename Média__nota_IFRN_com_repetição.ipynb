{
  "nbformat": 4,
  "nbformat_minor": 0,
  "metadata": {
    "colab": {
      "provenance": [],
      "authorship_tag": "ABX9TyNXQGWIGRPUnTuqNUlVdakE",
      "include_colab_link": true
    },
    "kernelspec": {
      "name": "python3",
      "display_name": "Python 3"
    },
    "language_info": {
      "name": "python"
    }
  },
  "cells": [
    {
      "cell_type": "markdown",
      "metadata": {
        "id": "view-in-github",
        "colab_type": "text"
      },
      "source": [
        "<a href=\"https://colab.research.google.com/github/Kalinelsantoss/-2024.1-Algoritmos-e-Estruturas-de-Dados-KalineSantos-/blob/main/M%C3%A9dia__nota_IFRN_com_repeti%C3%A7%C3%A3o.ipynb\" target=\"_parent\"><img src=\"https://colab.research.google.com/assets/colab-badge.svg\" alt=\"Open In Colab\"/></a>"
      ]
    },
    {
      "cell_type": "code",
      "execution_count": 51,
      "metadata": {
        "colab": {
          "base_uri": "https://localhost:8080/"
        },
        "id": "CfGZ1oswhcz4",
        "outputId": "fab2bfd5-aaeb-46d6-f066-536e13d2e30a"
      },
      "outputs": [
        {
          "output_type": "stream",
          "name": "stdout",
          "text": [
            "calculadora de média ponderada do IFRN\n",
            "Digite o úmero de alunos:3\n",
            "\n",
            "Aluno 1:\n",
            "digite a nota 1 (com peso 2):6\n",
            "digite a nota 2 (com peso 3):5\n",
            "A média ponderada das notas é: 5.40\n",
            "Prova final\n",
            "intervalo válido\n",
            "\n",
            "Aluno 2:\n",
            "digite a nota 1 (com peso 2):8\n",
            "digite a nota 2 (com peso 3):6\n",
            "A média ponderada das notas é: 6.80\n",
            "Aprovado\n",
            "intervalo válido\n",
            "\n",
            "Aluno 3:\n",
            "digite a nota 1 (com peso 2):6\n",
            "digite a nota 2 (com peso 3):2\n",
            "A média ponderada das notas é: 3.60\n",
            "Reprovado\n",
            "intervalo válido\n"
          ]
        }
      ],
      "source": [
        "print(\"calculadora de média ponderada do IFRN\")\n",
        "\n",
        "#perguntando, para quantos alunos, desejo calcular média\n",
        "num_alunos = int(input(\"Digite o úmero de alunos:\"))\n",
        "\n",
        "for aluno in range  (1, num_alunos+1):\n",
        "  #imprima o número do aluno da vez\n",
        "  print(f\"\\nAluno {aluno}:\")\n",
        "\n",
        "  #Float, tipagem explícita, para garantir número fracionário\n",
        "  n1 = float( input(\"digite a nota 1 (com peso 2):\"))\n",
        "  n2 = float( input(\"digite a nota 2 (com peso 3):\"))\n",
        "\n",
        "  #calculo da media ponderada\n",
        "  media = (n1 * 2 + n2 *3) / 5\n",
        "\n",
        "  #impressão da média\n",
        "  print(f\"A média ponderada das notas é: {media:.2f}\")\n",
        "\n",
        "  #apresentar se o aluno foi aprovado ou não\n",
        "  if media >= 6:\n",
        "    print(\"Aprovado\")\n",
        "  else:\n",
        "    if n1 >=4 and n2 >=4:\n",
        "      print(\"Prova final\")\n",
        "    else:\n",
        "      print(\"Reprovado\")\n",
        "\n",
        "  #verificar se notas estão em intervalo válido\n",
        "  if n1<=10 and n2 <=10:\n",
        "    print(\"intervalo válido\")\n"
      ]
    }
  ]
}